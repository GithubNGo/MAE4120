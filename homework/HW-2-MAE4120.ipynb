{
 "cells": [
  {
   "cell_type": "markdown",
   "metadata": {},
   "source": [
    "<img src=\"https://jrmcclure.com/MAE4120/images/003_4bar_01.svg\" width=\"600\"/>"
   ]
  },
  {
   "cell_type": "markdown",
   "metadata": {},
   "source": [
    "### 1. Write a Python function that accepts 4 link lengths ($L_{1}$,$L_{2}$,$L_{3}$,$L_{4}$) and determines the minimum possible value for $\\theta_{1}$:"
   ]
  },
  {
   "cell_type": "code",
   "execution_count": 6,
   "metadata": {
    "collapsed": true
   },
   "outputs": [],
   "source": [
    "def fourbar_theta2_min(L1,L2,L3,L4):\n",
    "    '''\n",
    "    Function returns theta2_min if exists, else returns None\n",
    "    '''\n",
    "    #Insert your code below this line\n",
    "    \n",
    "    pass\n",
    "    \n",
    "    #Insert your code above this line   "
   ]
  },
  {
   "cell_type": "markdown",
   "metadata": {},
   "source": [
    "### 2. Write a Python function that accepts 4 link lengths ($L_{1}$,$L_{2}$,$L_{3}$,$L_{4}$) and determines the maximum possible value for $\\theta_{1}$:"
   ]
  },
  {
   "cell_type": "code",
   "execution_count": 7,
   "metadata": {
    "collapsed": true
   },
   "outputs": [],
   "source": [
    "def fourbar_theta2_max(L1,L2,L3,L4):\n",
    "    '''\n",
    "    Function returns theta2_max if exists, else returns None\n",
    "    '''\n",
    "    #Insert your code below this line\n",
    "    \n",
    "    pass\n",
    "    \n",
    "    #Insert your code above this line "
   ]
  },
  {
   "cell_type": "markdown",
   "metadata": {},
   "source": [
    "### 3. Write a Python function that accepts 4 link lengths & $\\theta_{1}$ ($L_{1}$,$L_{2}$,$L_{3}$,$L_{4}$,$\\theta_{1}$) and value of $\\theta_{3}$:"
   ]
  },
  {
   "cell_type": "code",
   "execution_count": 8,
   "metadata": {
    "collapsed": true
   },
   "outputs": [],
   "source": [
    "def fourbar_calc_theta3(L1,L2,L3,L4,theta1):\n",
    "    '''\n",
    "    Function returns theta3 if possibe, else returns None\n",
    "    '''\n",
    "    #Insert your code below this line\n",
    "    \n",
    "    pass\n",
    "    \n",
    "    #Insert your code above this line "
   ]
  },
  {
   "cell_type": "markdown",
   "metadata": {},
   "source": [
    "### 4. Using you functions above, find  $\\theta_{1_{min}}$, $\\theta_{1_{max}}$, &  $\\theta_{3}$.  For the following fourbar linkages.  For each linkage include a dimensioned sketch showing $L_{1}$, $L_{2}$, $L_{3}$, $L_{4}$, $\\theta_{1}$, & $\\theta_{3}$.\n",
    "> __Given  $\\theta_{1}=30^{\\circ}$__\n",
    "\n",
    "> __Solve:__\n",
    ">> __(1) $L_{1} = 150mm$, $L_{2} = 250mm$, $L_{3} = 750mm$, $L_{4} = 800mm$__\n",
    "\n",
    ">> __(2) $L_{1} = 200mm$, $L_{2} = 150mm$, $L_{3} = 800mm$, $L_{4} = 800mm$__\n",
    "\n",
    ">> __(3) $L_{1} = 200mm$, $L_{2} = 200mm$, $L_{3} = 400mm$, $L_{4} = 800mm$__"
   ]
  },
  {
   "cell_type": "code",
   "execution_count": null,
   "metadata": {
    "collapsed": true
   },
   "outputs": [],
   "source": []
  }
 ],
 "metadata": {
  "kernelspec": {
   "display_name": "Python 3",
   "language": "python",
   "name": "python3"
  },
  "language_info": {
   "codemirror_mode": {
    "name": "ipython",
    "version": 3
   },
   "file_extension": ".py",
   "mimetype": "text/x-python",
   "name": "python",
   "nbconvert_exporter": "python",
   "pygments_lexer": "ipython3",
   "version": "3.5.1"
  }
 },
 "nbformat": 4,
 "nbformat_minor": 2
}
