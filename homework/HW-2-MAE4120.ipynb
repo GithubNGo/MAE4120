{
 "cells": [
  {
   "cell_type": "code",
   "execution_count": 21,
   "metadata": {
    "collapsed": true
   },
   "outputs": [],
   "source": [
    "import math\n",
    "from scipy.optimize import fsolve"
   ]
  },
  {
   "cell_type": "markdown",
   "metadata": {},
   "source": [
    "<img src=\"https://jrmcclure.com/MAE4120/images/003_4bar_01.svg\" width=\"600\"/>"
   ]
  },
  {
   "cell_type": "markdown",
   "metadata": {},
   "source": [
    "### 1. Write a Python function that accepts 4 link lengths ($L_{1}$,$L_{2}$,$L_{3}$,$L_{4}$) and determines the minimum possible value for $\\theta_{1}$:"
   ]
  },
  {
   "cell_type": "code",
   "execution_count": 22,
   "metadata": {
    "collapsed": true
   },
   "outputs": [],
   "source": [
    "def fourbar_theta2_min(a,b,c,d):\n",
    "    '''\n",
    "    Function returns theta2_min if exists, else returns None\n",
    "    '''\n",
    "    #Insert your code below this line\n",
    "    \n",
    "    pass\n",
    "    \n",
    "    #Insert your code above this line     "
   ]
  },
  {
   "cell_type": "markdown",
   "metadata": {},
   "source": [
    "### 2. Write a Python function that accepts 4 link lengths ($L_{1}$,$L_{2}$,$L_{3}$,$L_{4}$) and determines the maximum possible value for $\\theta_{1}$:"
   ]
  },
  {
   "cell_type": "code",
   "execution_count": 23,
   "metadata": {
    "collapsed": true
   },
   "outputs": [],
   "source": [
    "def fourbar_theta2_max(a,b,c,d):\n",
    "    '''\n",
    "    Function returns theta2_max if exists, else returns None\n",
    "    '''\n",
    "    #Insert your code below this line\n",
    "    \n",
    "    pass\n",
    "\n",
    "    #Insert your code above this line "
   ]
  },
  {
   "cell_type": "markdown",
   "metadata": {},
   "source": [
    "### 3. Write a Python function that accepts 4 link lengths & $\\theta_{1}$ ($L_{1}$,$L_{2}$,$L_{3}$,$L_{4}$,$\\theta_{1}$) and value of $\\theta_{3}$:"
   ]
  },
  {
   "cell_type": "code",
   "execution_count": 24,
   "metadata": {},
   "outputs": [],
   "source": [
    "def fourbar_calc_theta3(a,b,c,d,theta1):\n",
    "    '''\n",
    "    Function returns theta3 if possibe, else returns None\n",
    "    '''\n",
    "    #Insert your code below this line\n",
    "    \n",
    "    pass\n",
    "    \n",
    "    #Insert your code above this line "
   ]
  },
  {
   "cell_type": "markdown",
   "metadata": {},
   "source": [
    "### 4. Using you functions above, find  $\\theta_{1_{min}}$, $\\theta_{1_{max}}$, &  $\\theta_{3}$.  For the following fourbar linkages.  For each linkage include a dimensioned sketch showing $L_{1}$, $L_{2}$, $L_{3}$, $L_{4}$, $\\theta_{1}$, & $\\theta_{3}$.\n",
    "> __Given  $\\theta_{1}=30^{\\circ}$__\n",
    "\n",
    "> __Solve:__\n",
    ">> __(1) $L_{1} = 150mm$, $L_{2} = 250mm$, $L_{3} = 750mm$, $L_{4} = 800mm$__\n",
    "\n",
    ">> __(2) $L_{1} = 200mm$, $L_{2} = 150mm$, $L_{3} = 800mm$, $L_{4} = 800mm$__\n",
    "\n",
    ">> __(3) $L_{1} = 200mm$, $L_{2} = 400mm$, $L_{3} = 400mm$, $L_{4} = 800mm$__"
   ]
  },
  {
   "cell_type": "code",
   "execution_count": 25,
   "metadata": {},
   "outputs": [
    {
     "name": "stdout",
     "output_type": "stream",
     "text": [
      "None\n",
      "None\n",
      "None\n"
     ]
    }
   ],
   "source": [
    "print(fourbar_theta2_min(150,250,750,800))\n",
    "print(fourbar_theta2_max(150,250,750,800))\n",
    "print(fourbar_calc_theta3(150,250,750,800,30))"
   ]
  },
  {
   "cell_type": "code",
   "execution_count": 26,
   "metadata": {},
   "outputs": [
    {
     "name": "stdout",
     "output_type": "stream",
     "text": [
      "None\n",
      "None\n",
      "None\n"
     ]
    }
   ],
   "source": [
    "print(fourbar_theta2_min(200,150,800,800))\n",
    "print(fourbar_theta2_max(200,150,800,800))\n",
    "print(fourbar_calc_theta3(200,150,800,800,30))"
   ]
  },
  {
   "cell_type": "code",
   "execution_count": 27,
   "metadata": {},
   "outputs": [
    {
     "name": "stdout",
     "output_type": "stream",
     "text": [
      "None\n",
      "None\n",
      "None\n"
     ]
    }
   ],
   "source": [
    "print(fourbar_theta2_min(200,400,400,800))\n",
    "print(fourbar_theta2_max(200,400,400,800))\n",
    "print(fourbar_calc_theta3(200,400,400,800,30))"
   ]
  },
  {
   "cell_type": "markdown",
   "metadata": {},
   "source": [
    "### Tests ###"
   ]
  },
  {
   "cell_type": "code",
   "execution_count": 28,
   "metadata": {},
   "outputs": [
    {
     "name": "stdout",
     "output_type": "stream",
     "text": [
      "----- Theta Min Tests Failed!!! -----\n"
     ]
    }
   ],
   "source": [
    "try:\n",
    "    assert(math.isclose(fourbar_theta2_min(150,250,750,800),0,abs_tol=0.5))\n",
    "    assert(math.isclose(fourbar_theta2_min(200,150,800,800),36.42,abs_tol=0.5))\n",
    "    assert(math.isclose(fourbar_theta2_min(200,400,400,800),0,abs_tol=0.5))\n",
    "    print('----- Theta Min Tests Passed!!! -----')    \n",
    "except:\n",
    "    print('----- Theta Min Tests Failed!!! -----')"
   ]
  },
  {
   "cell_type": "code",
   "execution_count": 29,
   "metadata": {},
   "outputs": [
    {
     "name": "stdout",
     "output_type": "stream",
     "text": [
      "----- Theta Max Tests Failed!!! -----\n"
     ]
    }
   ],
   "source": [
    "try:\n",
    "    assert(math.isclose(fourbar_theta2_max(150,250,750,800),180,abs_tol=0.5))\n",
    "    assert(math.isclose(fourbar_theta2_max(200,150,800,800),134.05,abs_tol=0.5))\n",
    "    assert(math.isclose(fourbar_theta2_max(200,400,400,800),82.82,abs_tol=0.5))\n",
    "    print('----- Theta Max Tests Passed!!! -----')    \n",
    "except:\n",
    "    print('----- Theta Max Tests Failed!!! -----')"
   ]
  },
  {
   "cell_type": "code",
   "execution_count": 30,
   "metadata": {},
   "outputs": [
    {
     "name": "stdout",
     "output_type": "stream",
     "text": [
      "----- Theta 3 Calc Tests Failed!!! -----\n"
     ]
    }
   ],
   "source": [
    "try:\n",
    "    assert(math.isclose(fourbar_calc_theta3(150,250,750,800,30),154.33,abs_tol=0.5))\n",
    "    assert(fourbar_calc_theta3(200,150,800,800,30) is None)\n",
    "    assert(math.isclose(fourbar_calc_theta3(200,400,400,800,30),133.44,abs_tol=0.5))\n",
    "    print('----- Theta 3 Calc Tests Passed!!! -----')    \n",
    "except:\n",
    "    print('----- Theta 3 Calc Tests Failed!!! -----')"
   ]
  },
  {
   "cell_type": "code",
   "execution_count": null,
   "metadata": {
    "collapsed": true
   },
   "outputs": [],
   "source": []
  }
 ],
 "metadata": {
  "kernelspec": {
   "display_name": "Python 3",
   "language": "python",
   "name": "python3"
  },
  "language_info": {
   "codemirror_mode": {
    "name": "ipython",
    "version": 3
   },
   "file_extension": ".py",
   "mimetype": "text/x-python",
   "name": "python",
   "nbconvert_exporter": "python",
   "pygments_lexer": "ipython3",
   "version": "3.5.1"
  }
 },
 "nbformat": 4,
 "nbformat_minor": 2
}
