{
 "cells": [
  {
   "cell_type": "code",
   "execution_count": null,
   "metadata": {
    "collapsed": true
   },
   "outputs": [],
   "source": [
    "%matplotlib inline"
   ]
  },
  {
   "cell_type": "code",
   "execution_count": 4,
   "metadata": {
    "collapsed": true
   },
   "outputs": [],
   "source": [
    "import matplotlib.pyplot as plt\n",
    "import math\n",
    "import numpy as np\n",
    "from scipy.optimize import fsolve"
   ]
  },
  {
   "cell_type": "markdown",
   "metadata": {},
   "source": [
    "### 1. Write a  function that accepts 4 link lengths & $\\theta_{1}$ ($L_{1}$,$L_{2}$,$L_{3}$,$L_{4}$,$\\theta_{1}$) and calcuates the (x,y) coordinates for all joint locations for a fourbar double-crank linkage:"
   ]
  },
  {
   "cell_type": "markdown",
   "metadata": {},
   "source": [
    "### 2. Write a  function that accepts 4 link lengths & $\\theta_{1}$ ($L_{1}$,$L_{2}$,$L_{3}$,$L_{4}$,$\\theta_{1}$) and calcuates value of $\\theta_{3}$ for a fourbar slider-crank linkage:"
   ]
  },
  {
   "cell_type": "markdown",
   "metadata": {},
   "source": [
    "### 3. Write a  function that accepts 4 (x,y) coordiantes and plots them using the matplotlib library:\n",
    "\n",
    " - Plot lines connecting the points\n",
    " - Plot each line in a different color\n",
    " - Plot dots at each of the points\n",
    " - Ensure both axes have the same scale"
   ]
  }
 ],
 "metadata": {
  "kernelspec": {
   "display_name": "Python 3",
   "language": "python",
   "name": "python3"
  },
  "language_info": {
   "codemirror_mode": {
    "name": "ipython",
    "version": 3
   },
   "file_extension": ".py",
   "mimetype": "text/x-python",
   "name": "python",
   "nbconvert_exporter": "python",
   "pygments_lexer": "ipython3",
   "version": "3.6.1"
  }
 },
 "nbformat": 4,
 "nbformat_minor": 2
}
