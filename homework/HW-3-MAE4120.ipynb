{
 "cells": [
  {
   "cell_type": "code",
   "execution_count": 1,
   "metadata": {
    "collapsed": true
   },
   "outputs": [],
   "source": [
    "%matplotlib inline"
   ]
  },
  {
   "cell_type": "code",
   "execution_count": 2,
   "metadata": {
    "collapsed": true
   },
   "outputs": [],
   "source": [
    "import matplotlib.pyplot as plt\n",
    "import math\n",
    "import numpy as np\n",
    "from scipy.optimize import fsolve"
   ]
  },
  {
   "cell_type": "markdown",
   "metadata": {},
   "source": [
    "### 1. Write a  function that accepts $L_{1}$, $L_{2}$, $L_{3}$, $\\theta_{1}$ and calcuates value of $\\theta_{2}$ and $d$ for a fourbar slider-crank linkage:\n",
    "\n",
    "<img src='https://jrmcclure.com/MAE4120/images/005_4bar_slider.svg' width=\"500px\">"
   ]
  },
  {
   "cell_type": "code",
   "execution_count": 3,
   "metadata": {
    "collapsed": true
   },
   "outputs": [],
   "source": [
    "def fourbar_crank_theta2(L1,L2,L3,theta1):\n",
    "    '''\n",
    "    Function returns theta2_min if exists, else returns None\n",
    "    '''\n",
    "    #Insert your code below this line\n",
    "    \n",
    "    pass\n",
    "    \n",
    "    #Insert your code above this line \n",
    "    \n",
    "    return theta2, d"
   ]
  },
  {
   "cell_type": "markdown",
   "metadata": {},
   "source": [
    "### 2. Write a  function that accepts $L_{1}$, $L_{2}$, $L_{3}$, $L_{4}$, $\\theta_{1}$, $\\theta_{3}$ and calcuates the (x,y) coordinates for all joint locations for a fourbar double-crank linkage:\n",
    "\n",
    "<img src=\"https://jrmcclure.com/MAE4120/images/005_4bar_01.svg\" width='600px'>"
   ]
  },
  {
   "cell_type": "code",
   "execution_count": 4,
   "metadata": {
    "collapsed": true
   },
   "outputs": [],
   "source": [
    "def fourbar_coordinates(L1,L2,L3,L4,theta1,theta3):\n",
    "    '''\n",
    "    Function returns theta2_min if exists, else returns None\n",
    "    '''\n",
    "    #Insert your code below this line\n",
    "    \n",
    "    pass\n",
    "    \n",
    "    #Insert your code above this line \n",
    "    \n",
    "    return (x1,y1,x2,y2,x3,y3,x4,y4)\n"
   ]
  },
  {
   "cell_type": "markdown",
   "metadata": {},
   "source": [
    "### 3. Write a  function that accepts $L_{1}$, $L_{2}$, $L_{3}$, $\\theta_{1}$, $\\theta_{2}$, $d$ and calcuates the (x,y) coordinates for all joint locations for a fourbar crank-slider linkage:\n",
    "\n",
    "<img src=\"https://jrmcclure.com/MAE4120/images/005_4bar_slider_xy.svg\" width='600px'>"
   ]
  },
  {
   "cell_type": "code",
   "execution_count": 5,
   "metadata": {
    "collapsed": true
   },
   "outputs": [],
   "source": [
    "def fourbar_crank_coordinates(L1,L2,L3,theta1,theta2,d):\n",
    "    '''\n",
    "    Function returns theta2_min if exists, else returns None\n",
    "    '''\n",
    "    #Insert your code below this line\n",
    "    \n",
    "    pass\n",
    "    \n",
    "    #Insert your code above this line \n",
    "    \n",
    "    return ((x1,y1),(x2,y2),(x3,y3),(x4,y4))"
   ]
  },
  {
   "cell_type": "markdown",
   "metadata": {},
   "source": [
    "### 4. Write a  function that accepts 4 (x,y) coordiantes and plots them using the matplotlib library:\n",
    "\n",
    " - Plot lines connecting the points\n",
    " - Plot each line in a different color\n",
    " - Plot dots at each of the points\n",
    " - Ensure both axes have the same scale\n",
    " \n",
    "#### Example: ####\n",
    " \n",
    " <img src=\"https://jrmcclure.com/MAE4120/images/005_plot.png\" width=\"600px\" align=\"left\">"
   ]
  },
  {
   "cell_type": "code",
   "execution_count": 6,
   "metadata": {
    "collapsed": true
   },
   "outputs": [],
   "source": [
    "def fourbar_plot(x1,y1,x2,y2,x3,y3,x4,y4):\n",
    "    '''\n",
    "    Function returns theta2_min if exists, else returns None\n",
    "    '''\n",
    "    #Insert your code below this line\n",
    "    \n",
    "    pass\n",
    "    \n",
    "    #Insert your code above this line \n",
    "    "
   ]
  },
  {
   "cell_type": "markdown",
   "metadata": {
    "collapsed": true
   },
   "source": [
    "### TESTS ###"
   ]
  },
  {
   "cell_type": "markdown",
   "metadata": {},
   "source": [
    "__Problem 1:__\n",
    " -  __$L_{1} = 200$, $L_{2} = 600$, $L_{3} = 300$, $\\theta_{1} = 30^{\\circ} \\longrightarrow \\theta_{2} = 199.5^{\\circ}, d = 738.9 $__\n",
    "\n",
    " -  __$L_{1} = 200$, $L_{2} = 600$, $L_{3} = 300$, $\\theta_{1} = 90^{\\circ} \\longrightarrow \\theta_{2} = 189.6^{\\circ}, d = 591.6 $__\n",
    "\n",
    " -  __$L_{1} = 200$, $L_{2} = 600$, $L_{3} = 300$, $\\theta_{1} = 180^{\\circ} \\longrightarrow \\theta_{2} = 210.0^{\\circ}, d = 319.6 $__"
   ]
  },
  {
   "cell_type": "markdown",
   "metadata": {},
   "source": [
    "__Problem 2:__\n",
    " -  __$L_{1} = 100$, $L_{2} = 200$, $L_{3} = 250$, $L_{3} = 400$, $\\theta_{1} = 0^{\\circ}, \\theta_{3} = 138.6^{\\circ} \\to (x_{3},y_{3}) = (212.5,165.4)$__\n",
    "\n",
    " -  __$L_{1} = 100$, $L_{2} = 200$, $L_{3} = 250$, $L_{3} = 400$, $\\theta_{1} = 45^{\\circ}, \\theta_{3} = 131.7^{\\circ} \\to (x_{3},y_{3}) = (233.7,186.7)$__\n",
    "\n",
    " -  __$L_{1} = 100$, $L_{2} = 200$, $L_{3} = 250$, $L_{3} = 400$, $\\theta_{1} = 90^{\\circ}, \\theta_{3} = 145.0^{\\circ} \\to (x_{3},y_{3}) = (195.2,143.4)$__"
   ]
  },
  {
   "cell_type": "markdown",
   "metadata": {},
   "source": [
    "__Problem 3:__\n",
    " -  __$L_{1} = 200$, $L_{2} = 600$, $L_{3} = 300$, $\\theta_{1} = 30^{\\circ}, \\theta_{2} = 199.5^{\\circ}, d = 738.9 \\to (x_{2},y_{2}) = (173.1,100)$__\n",
    "\n",
    " -  __$L_{1} = 200$, $L_{2} = 600$, $L_{3} = 300$, $\\theta_{1} = 90^{\\circ}, \\theta_{2} = 189.6^{\\circ}, d = 591.6 \\to (x_{2},y_{2}) = (0,200)$__\n",
    "\n",
    " -  __$L_{1} = 200$, $L_{2} = 600$, $L_{3} = 300$, $\\theta_{1} = 180^{\\circ}, \\theta_{2} = 210.0^{\\circ}, d = 319.6 \\to (x_{2},y_{2}) = (-200,0)$__"
   ]
  },
  {
   "cell_type": "code",
   "execution_count": null,
   "metadata": {
    "collapsed": true
   },
   "outputs": [],
   "source": []
  }
 ],
 "metadata": {
  "kernelspec": {
   "display_name": "Python 3",
   "language": "python",
   "name": "python3"
  },
  "language_info": {
   "codemirror_mode": {
    "name": "ipython",
    "version": 3
   },
   "file_extension": ".py",
   "mimetype": "text/x-python",
   "name": "python",
   "nbconvert_exporter": "python",
   "pygments_lexer": "ipython3",
   "version": "3.6.1"
  }
 },
 "nbformat": 4,
 "nbformat_minor": 2
}
