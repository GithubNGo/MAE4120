{
 "cells": [
  {
   "cell_type": "code",
   "execution_count": 3,
   "metadata": {
    "collapsed": true
   },
   "outputs": [],
   "source": [
    "%matplotlib inline"
   ]
  },
  {
   "cell_type": "code",
   "execution_count": 4,
   "metadata": {
    "collapsed": true
   },
   "outputs": [],
   "source": [
    "import matplotlib.pyplot as plt\n",
    "import math\n",
    "import numpy as np\n",
    "from scipy.optimize import fsolve"
   ]
  },
  {
   "cell_type": "markdown",
   "metadata": {},
   "source": [
    "### 1. Write a  function that accepts $L_{1}$, $L_{2}$, $L_{3}$, $\\theta_{1}$ and calcuates value of $\\theta_{2}$ and $d$ for a fourbar slider-crank linkage:\n",
    "\n",
    "<img src='https://jrmcclure.com/MAE4120/images/005_4bar_slider.svg' width=\"500px\">"
   ]
  },
  {
   "cell_type": "markdown",
   "metadata": {},
   "source": [
    "### 2. Write a  function that accepts $L_{1}$, $L_{2}$, $L_{3}$, $L_{4}$, $\\theta_{1}$, $\\theta_{3}$ and calcuates the (x,y) coordinates for all joint locations for a fourbar double-crank linkage:\n",
    "\n",
    "<img src=\"https://jrmcclure.com/MAE4120/images/005_4bar_01.svg\" width='600px'>"
   ]
  },
  {
   "cell_type": "markdown",
   "metadata": {},
   "source": [
    "### 3. Write a  function that accepts $L_{1}$, $L_{2}$, $L_{3}$, $\\theta_{1}$, $\\theta_{2}$, $d$ and calcuates the (x,y) coordinates for all joint locations for a fourbar crank-slider linkage:\n",
    "\n",
    "<img src=\"https://jrmcclure.com/MAE4120/images/005_4bar_slider_xy.svg\" width='600px'>"
   ]
  },
  {
   "cell_type": "markdown",
   "metadata": {},
   "source": [
    "### 4. Write a  function that accepts 4 (x,y) coordiantes and plots them using the matplotlib library:\n",
    "\n",
    " - Plot lines connecting the points\n",
    " - Plot each line in a different color\n",
    " - Plot dots at each of the points\n",
    " - Ensure both axes have the same scale\n",
    " \n",
    " #### Example: ####\n",
    " <img src=\"https://jrmcclure.com/MAE4120/images/005_plot.png\" width=\"600px\">"
   ]
  },
  {
   "cell_type": "code",
   "execution_count": null,
   "metadata": {
    "collapsed": true
   },
   "outputs": [],
   "source": []
  }
 ],
 "metadata": {
  "kernelspec": {
   "display_name": "Python 3",
   "language": "python",
   "name": "python3"
  },
  "language_info": {
   "codemirror_mode": {
    "name": "ipython",
    "version": 3
   },
   "file_extension": ".py",
   "mimetype": "text/x-python",
   "name": "python",
   "nbconvert_exporter": "python",
   "pygments_lexer": "ipython3",
   "version": "3.5.1"
  }
 },
 "nbformat": 4,
 "nbformat_minor": 2
}
