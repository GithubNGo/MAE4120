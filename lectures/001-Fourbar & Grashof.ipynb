{
 "cells": [
  {
   "cell_type": "markdown",
   "metadata": {},
   "source": [
    "# Fourbar Linkage\n",
    "---\n",
    "\n",
    "__In order to assemble a fourbar linakge the following must be true:__"
   ]
  },
  {
   "cell_type": "markdown",
   "metadata": {},
   "source": [
    "__Let__:\n",
    "\n",
    "\\begin{align*}\n",
    "S & = length\\:of\\:shortest\\:link \\\\\n",
    "L & = length\\:of\\:longest\\:link \\\\\n",
    "P & = length\\:of\\:one\\:remaining\\:link \\\\\n",
    "Q & = length\\:of\\:other\\:remaining\\:link\n",
    "\\end{align*}"
   ]
  },
  {
   "cell_type": "markdown",
   "metadata": {},
   "source": [
    "__Then if:__\n",
    "\n",
    "\\begin{equation*}\\large\n",
    "L \\leq (S + P + Q)\n",
    "\\end{equation*}\n",
    "\n",
    "The linkage can be assembled into a fourbar."
   ]
  },
  {
   "cell_type": "code",
   "execution_count": 6,
   "metadata": {
    "collapsed": true
   },
   "outputs": [],
   "source": [
    "L1 = 100\n",
    "L2 = 200\n",
    "L3 = 300\n",
    "L4 = 100"
   ]
  },
  {
   "cell_type": "code",
   "execution_count": 3,
   "metadata": {},
   "outputs": [
    {
     "name": "stdout",
     "output_type": "stream",
     "text": [
      "Done.  Go home\n"
     ]
    }
   ],
   "source": [
    "if L4 <= (L1 + L2 + L3):\n",
    "    print(\"Can assemble.  More work\")\n",
    "else:\n",
    "    print('Done.  Go home')"
   ]
  },
  {
   "cell_type": "code",
   "execution_count": 8,
   "metadata": {
    "collapsed": true
   },
   "outputs": [],
   "source": [
    "def test_possible(L1,L2,L3,L4):\n",
    "    if L4 <= (L1 + L2 + L3):\n",
    "        print(\"Can assemble.  More work\")\n",
    "    else:\n",
    "        print('Done.  Go home')"
   ]
  },
  {
   "cell_type": "code",
   "execution_count": 11,
   "metadata": {},
   "outputs": [
    {
     "name": "stdout",
     "output_type": "stream",
     "text": [
      "Done.  Go home\n"
     ]
    }
   ],
   "source": [
    "test_possible(200,600,300,1500)"
   ]
  },
  {
   "cell_type": "code",
   "execution_count": 12,
   "metadata": {},
   "outputs": [
    {
     "name": "stdout",
     "output_type": "stream",
     "text": [
      "Done.  Go home\n"
     ]
    }
   ],
   "source": [
    "test_possible(200,600,300,1200)"
   ]
  },
  {
   "cell_type": "code",
   "execution_count": 13,
   "metadata": {},
   "outputs": [
    {
     "name": "stdout",
     "output_type": "stream",
     "text": [
      "Can assemble.  More work\n"
     ]
    }
   ],
   "source": [
    "test_possible(200,600,300,200)"
   ]
  },
  {
   "cell_type": "code",
   "execution_count": null,
   "metadata": {
    "collapsed": true
   },
   "outputs": [],
   "source": []
  },
  {
   "cell_type": "code",
   "execution_count": null,
   "metadata": {
    "collapsed": true
   },
   "outputs": [],
   "source": []
  },
  {
   "cell_type": "markdown",
   "metadata": {},
   "source": [
    "# Grashof Condition\n",
    "---\n",
    "\n",
    "__The Grashof condition for a four-bar linkage states:__\n",
    "\n",
    "   _If the sum of the shortest and longest link of a planar quadrilateral linkage is less than or equal to the sum of the remaining two links, then the shortest link can rotate fully with respect to a neighboring link._"
   ]
  },
  {
   "cell_type": "markdown",
   "metadata": {},
   "source": [
    "__Let__:\n",
    "\n",
    "\\begin{align*}\n",
    "S & = length\\:of\\:shortest\\:link \\\\\n",
    "L & = length\\:of\\:longest\\:link \\\\\n",
    "P & = length\\:of\\:one\\:remaining\\:link \\\\\n",
    "Q & = length\\:of\\:other\\:remaining\\:link\n",
    "\\end{align*}"
   ]
  },
  {
   "cell_type": "markdown",
   "metadata": {},
   "source": [
    "__Then if:__\n",
    "\n",
    "\\begin{equation*}\\large\n",
    "S + L \\leq P + Q\n",
    "\\end{equation*}\n",
    "\n",
    "The linkage is __Grashof__, and therefore one or more links will be able to rotate a full 360 degrees"
   ]
  },
  {
   "cell_type": "markdown",
   "metadata": {},
   "source": [
    "<img src=\"https://cdn.me-mechanicalengineering.com/wp-content/uploads/2015/11/crank-rocker.png\" width=\"400\"/>"
   ]
  },
  {
   "cell_type": "markdown",
   "metadata": {},
   "source": [
    "__Else:__\n",
    "\n",
    "The linkage is __non-Grashof__, and no link will be able to rotate 360 degrees"
   ]
  },
  {
   "cell_type": "markdown",
   "metadata": {},
   "source": [
    "<img src=\"https://cdn.me-mechanicalengineering.com/wp-content/uploads/2015/11/double-rocker.png\" width=\"400\"/>"
   ]
  },
  {
   "cell_type": "code",
   "execution_count": 14,
   "metadata": {
    "collapsed": true
   },
   "outputs": [],
   "source": [
    "import numpy as np\n",
    "np.random.seed(1)"
   ]
  },
  {
   "cell_type": "code",
   "execution_count": 15,
   "metadata": {
    "collapsed": true
   },
   "outputs": [],
   "source": [
    "links = 100 * np.random.randint(low=1, high=11, size=4)"
   ]
  },
  {
   "cell_type": "code",
   "execution_count": 16,
   "metadata": {},
   "outputs": [
    {
     "data": {
      "text/plain": [
       "array([ 600,  900, 1000,  600])"
      ]
     },
     "execution_count": 16,
     "metadata": {},
     "output_type": "execute_result"
    }
   ],
   "source": [
    "links"
   ]
  },
  {
   "cell_type": "code",
   "execution_count": 17,
   "metadata": {},
   "outputs": [
    {
     "data": {
      "text/plain": [
       "600"
      ]
     },
     "execution_count": 17,
     "metadata": {},
     "output_type": "execute_result"
    }
   ],
   "source": [
    "links[0]"
   ]
  },
  {
   "cell_type": "code",
   "execution_count": 18,
   "metadata": {},
   "outputs": [
    {
     "data": {
      "text/plain": [
       "900"
      ]
     },
     "execution_count": 18,
     "metadata": {},
     "output_type": "execute_result"
    }
   ],
   "source": [
    "links[1]"
   ]
  },
  {
   "cell_type": "code",
   "execution_count": 19,
   "metadata": {},
   "outputs": [
    {
     "data": {
      "text/plain": [
       "1000"
      ]
     },
     "execution_count": 19,
     "metadata": {},
     "output_type": "execute_result"
    }
   ],
   "source": [
    "links[2]"
   ]
  },
  {
   "cell_type": "code",
   "execution_count": 20,
   "metadata": {},
   "outputs": [
    {
     "data": {
      "text/plain": [
       "600"
      ]
     },
     "execution_count": 20,
     "metadata": {},
     "output_type": "execute_result"
    }
   ],
   "source": [
    "links[3]"
   ]
  },
  {
   "cell_type": "code",
   "execution_count": null,
   "metadata": {
    "collapsed": true
   },
   "outputs": [],
   "source": []
  }
 ],
 "metadata": {
  "kernelspec": {
   "display_name": "Python 3",
   "language": "python",
   "name": "python3"
  },
  "language_info": {
   "codemirror_mode": {
    "name": "ipython",
    "version": 3
   },
   "file_extension": ".py",
   "mimetype": "text/x-python",
   "name": "python",
   "nbconvert_exporter": "python",
   "pygments_lexer": "ipython3",
   "version": "3.5.1"
  }
 },
 "nbformat": 4,
 "nbformat_minor": 2
}
