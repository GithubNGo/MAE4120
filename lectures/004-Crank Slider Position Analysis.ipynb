{
 "cells": [
  {
   "cell_type": "markdown",
   "metadata": {},
   "source": [
    "# Crank-Slider Position Analysis\n",
    "---\n",
    "## Problem:\n",
    "\n",
    "<img src='https://jrmcclure.com/MAE4120/images/005_4bar_slider.svg' width=\"500px\">\n",
    "\n",
    "> ### __Given:__ $L_{1}, L_{2}, L_{3}, \\theta_{1}$\n",
    "\n",
    "> ### __Find:__ $\\theta_{2}, d$"
   ]
  },
  {
   "cell_type": "markdown",
   "metadata": {},
   "source": [
    "### Vector Analysis\n",
    "\n",
    "> _Once again we will use the vector loop equation to generate our system of equations to solve.  As an example, we will use two different vector loops to obtain identical systems of equations._"
   ]
  },
  {
   "cell_type": "markdown",
   "metadata": {},
   "source": [
    "### Vector Diagram: ##\n",
    "\n",
    "<img src=\"https://jrmcclure.com/MAE4120/images/005_4bar_slider_vector.svg\" width=\"600\"/>\n"
   ]
  },
  {
   "cell_type": "markdown",
   "metadata": {},
   "source": [
    "__Vector Loop Equation__:\n",
    "\n",
    "\\begin{equation*}\\large\n",
    "\\vec{L_{1}} = \\vec{d} + \\vec{L_{3}} + \\vec{L_{2}}\n",
    "\\end{equation*}\n",
    "\n",
    "__Cartesian Equations:__\n",
    "\n",
    "\\begin{equation*}\\large\n",
    "x:\\:L_{1,x} = d_{x} + L_{3,x} + L_{2,x}\\\\\n",
    "\\large\n",
    "y:\\:L_{1,y} = d_{y} + L_{3,y} + L_{2,y}\n",
    "\\end{equation*}\n",
    "\n",
    "__X-Y Equations:__\n",
    "\n",
    "\\begin{equation*}\\large\n",
    "x:\\:L_{1}\\cos\\theta_{1} = d\\cos\\theta_{4} + L_{3}\\cos\\theta_{3} + L_{2}\\cos\\theta_{2}\\\\ \n",
    "\\end{equation*}\n",
    "\\begin{equation*}\\large\n",
    "y:\\:L_{1}\\sin\\theta_{1} = d\\sin\\theta_{4} + L_{3}\\sin\\theta_{3} + L_{2}\\sin\\theta_{2}\\\\ \n",
    "\\end{equation*}\n",
    "\n",
    "> __Note__: $\\theta_{3} = 90^{\\circ}$\n",
    "\n",
    "> __Note__: $\\theta_{d} = 0^{\\circ}$\n",
    "\n",
    "\\begin{equation*}\\large\n",
    "x:\\:L_{1}\\cos\\theta_{1} = L_{2}\\cos\\theta_{2} + d\\\\ \n",
    "\\end{equation*}\n",
    "\\begin{equation*}\\large\n",
    "y:\\:L_{1}\\sin\\theta_{1} = L_{2}\\sin\\theta_{2} + L_{3}\\\\ \n",
    "\\end{equation*}\n",
    "\n",
    "> __2 Equations $\\to$ 2 Unknowns  ($\\theta_{2},d$) $\\to$ 0 DOF $\\to$ Solve__"
   ]
  },
  {
   "cell_type": "markdown",
   "metadata": {
    "collapsed": true
   },
   "source": [
    "\\begin{equation*}\\large\n",
    "\\theta_{2_{1}} = sin^{-1}\\Biggl(\\frac {L_{1}\\sin\\theta_{1} - L_{3}}{L_{2}}\\Biggr)\\\\ \n",
    "\\end{equation*}\n",
    "\\begin{equation*}\\large\n",
    "d = L_{1}\\cos\\theta_{1} - L_{3}\\cos\\theta_{2}\n",
    "\\end{equation*}\n"
   ]
  },
  {
   "cell_type": "code",
   "execution_count": null,
   "metadata": {
    "collapsed": true
   },
   "outputs": [],
   "source": []
  }
 ],
 "metadata": {
  "kernelspec": {
   "display_name": "Python 3",
   "language": "python",
   "name": "python3"
  },
  "language_info": {
   "codemirror_mode": {
    "name": "ipython",
    "version": 3
   },
   "file_extension": ".py",
   "mimetype": "text/x-python",
   "name": "python",
   "nbconvert_exporter": "python",
   "pygments_lexer": "ipython3",
   "version": "3.6.1"
  }
 },
 "nbformat": 4,
 "nbformat_minor": 2
}
